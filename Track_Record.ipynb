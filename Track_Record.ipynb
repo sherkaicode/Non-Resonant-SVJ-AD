{
 "cells": [
  {
   "cell_type": "code",
   "execution_count": 5,
   "id": "989982ca",
   "metadata": {},
   "outputs": [],
   "source": [
    "import os\n",
    "import json\n",
    "from collections import defaultdict"
   ]
  },
  {
   "cell_type": "code",
   "execution_count": 6,
   "id": "41bf7cc4",
   "metadata": {},
   "outputs": [
    {
     "name": "stdout",
     "output_type": "stream",
     "text": [
      "              NAME       TIME\n",
      "       mk_mc_wjets 3-18:02:09\n",
      "       mk_mc_zjets 3-18:02:09\n",
      "         mk_data_L 1-20:07:54\n",
      "         mk_data_D 1-20:10:24\n"
     ]
    }
   ],
   "source": [
    "# Check runs\n",
    "!squeue -u aegis -o \"%.18j %.10M\""
   ]
  },
  {
   "cell_type": "code",
   "execution_count": 7,
   "id": "6c677962",
   "metadata": {},
   "outputs": [],
   "source": [
    "# Paths\n",
    "data_finished_path = \"Dataset_ver2/Data/predataset\"\n",
    "mc_finished_path = \"Dataset_ver3/MC/processed\""
   ]
  },
  {
   "cell_type": "code",
   "execution_count": 8,
   "id": "e8fcdeaa",
   "metadata": {},
   "outputs": [],
   "source": [
    "\n",
    "atlas_info = {\n",
    "    \"Wjets\": {\n",
    "        \"jsons\": [\n",
    "            \"mc20_13TeV_MC_Sh_2211_Wenu_maxHTpTV2_BFilter_file_index.json\",\n",
    "            \"mc20_13TeV_MC_Sh_2211_Wenu_maxHTpTV2_CFilterBVeto_file_index.json\",\n",
    "            \"mc20_13TeV_MC_Sh_2211_Wenu_maxHTpTV2_CVetoBVeto_file_index.json\",\n",
    "            \"mc20_13TeV_MC_Sh_2211_Wmunu_maxHTpTV2_BFilter_file_index.json\",\n",
    "            \"mc20_13TeV_MC_Sh_2211_Wmunu_maxHTpTV2_CFilterBVeto_file_index.json\",\n",
    "            \"mc20_13TeV_MC_Sh_2211_Wmunu_maxHTpTV2_CVetoBVeto_file_index.json\",\n",
    "            \"mc20_13TeV_MC_Sh_2211_Wtaunu_L_maxHTpTV2_BFilter_file_index.json\",\n",
    "            \"mc20_13TeV_MC_Sh_2211_Wtaunu_L_maxHTpTV2_CFilterBVeto_file_index.json\",\n",
    "            \"mc20_13TeV_MC_Sh_2211_Wtaunu_L_maxHTpTV2_CVetoBVeto_file_index.json\",\n",
    "            \"mc20_13TeV_MC_Sh_2211_Wtaunu_H_maxHTpTV2_BFilter_file_index.json\",\n",
    "            \"mc20_13TeV_MC_Sh_2211_Wtaunu_H_maxHTpTV2_CFilterBVeto_file_index.json\",\n",
    "            \"mc20_13TeV_MC_Sh_2211_Wtaunu_H_maxHTpTV2_CVetoBVeto_file_index.json\"\n",
    "        ],\n",
    "        \"file\": \"ATLAS_boson.json\"\n",
    "    },\n",
    "    \"Zjets\": {\n",
    "        \"jsons\": [\n",
    "            \"mc20_13TeV_MC_Sh_2211_Zmumu_maxHTpTV2_BFilter_file_index.json\",\n",
    "            \"mc20_13TeV_MC_Sh_2211_Zmumu_maxHTpTV2_CFilterBVeto_file_index.json\",\n",
    "            \"mc20_13TeV_MC_Sh_2211_Zmumu_maxHTpTV2_CVetoBVeto_file_index.json\",\n",
    "            \"mc20_13TeV_MC_Sh_2211_Znunu_pTV2_BFilter_file_index.json\",\n",
    "            \"mc20_13TeV_MC_Sh_2211_Znunu_pTV2_CFilterBVeto_file_index.json\",\n",
    "            \"mc20_13TeV_MC_Sh_2211_Znunu_pTV2_CVetoBVeto_file_index.json\",\n",
    "            \"mc20_13TeV_MC_Sh_2214_Ztautau_maxHTpTV2_BFilter_file_index.json\", # Not Found\n",
    "            \"mc20_13TeV_MC_Sh_2214_Ztautau_maxHTpTV2_CFilterBVeto_file_index.json\",\n",
    "            \"mc20_13TeV_MC_Sh_2214_Ztautau_maxHTpTV2_CVetoBVeto_file_index.json\"\n",
    "        ],\n",
    "        \"file\": \"ATLAS_boson.json\"\n",
    "    },\n",
    "    \"ttbar\": {\n",
    "        \"jsons\": [\n",
    "            \"mc20_13TeV_MC_PhPy8EG_A14_ttbar_hdamp258p75_nonallhad_file_index.json\",\n",
    "            \"mc20_13TeV_MC_PhPy8EG_A14_ttbar_hdamp258p75_allhad_file_index.json\"\n",
    "        ],\n",
    "        \"file\": \"ATLAS_ttbar.json\"\n",
    "    },\n",
    "    \"Single_top\": {\n",
    "        \"jsons\": [\n",
    "            \"mc20_13TeV_MC_PowhegPythia8EvtGen_A14_singletop_schan_lept_top_file_index.json\",\n",
    "            \"mc20_13TeV_MC_PowhegPythia8EvtGen_A14_singletop_schan_lept_antitop_file_index.json\",\n",
    "            \"mc20_13TeV_MC_PhPy8EG_A14_tchan_BW50_lept_top_file_index.json\",\n",
    "            \"mc20_13TeV_MC_PhPy8EG_A14_tchan_BW50_lept_antitop_file_index.json\"\n",
    "        ],\n",
    "        \"file\": \"ATLAS_ttbar.json\"\n",
    "    },\n",
    "    \"Multijet\": {\n",
    "        \"jsons\": [\n",
    "            \"mc20_13TeV_MC_Pythia8EvtGen_A14NNPDF23LO_jetjet_JZ0WithSW_file_index.json\",\n",
    "            \"mc20_13TeV_MC_Pythia8EvtGen_A14NNPDF23LO_jetjet_JZ1WithSW_file_index.json\",\n",
    "            \"mc20_13TeV_MC_Pythia8EvtGen_A14NNPDF23LO_jetjet_JZ2WithSW_file_index.json\",\n",
    "            \"mc20_13TeV_MC_Pythia8EvtGen_A14NNPDF23LO_jetjet_JZ3WithSW_file_index.json\",\n",
    "            \"mc20_13TeV_MC_Pythia8EvtGen_A14NNPDF23LO_jetjet_JZ4WithSW_file_index.json\",\n",
    "            \"mc20_13TeV_MC_Pythia8EvtGen_A14NNPDF23LO_jetjet_JZ5WithSW_file_index.json\",\n",
    "            \"mc20_13TeV_MC_Pythia8EvtGen_A14NNPDF23LO_jetjet_JZ6WithSW_file_index.json\",\n",
    "            \"mc20_13TeV_MC_Pythia8EvtGen_A14NNPDF23LO_jetjet_JZ7WithSW_file_index.json\",\n",
    "            \"mc20_13TeV_MC_Pythia8EvtGen_A14NNPDF23LO_jetjet_JZ8WithSW_file_index.json\",\n",
    "            \"mc20_13TeV_MC_Pythia8EvtGen_A14NNPDF23LO_jetjet_JZ9WithSW_file_index.json\",\n",
    "            \"mc20_13TeV_MC_Pythia8EvtGen_A14NNPDF23LO_jetjet_JZ10WithSW_file_index.json\",\n",
    "            \"mc20_13TeV_MC_Pythia8EvtGen_A14NNPDF23LO_jetjet_JZ11WithSW_file_index.json\",\n",
    "            \"mc20_13TeV_MC_Pythia8EvtGen_A14NNPDF23LO_jetjet_JZ12WithSW_file_index.json\"\n",
    "        ],\n",
    "        \"file\": \"ATLAS_QCD.json\"\n",
    "    },\n",
    "    \"Diboson\": {\n",
    "        \"jsons\": [\n",
    "            \"mc20_13TeV_MC_Sh_2211_WlvZqq_file_index.json\",\n",
    "            \"mc20_13TeV_MC_Sh_2211_WqqZvv_file_index.json\",\n",
    "            \"mc20_13TeV_MC_Sh_2211_ZqqZvv_file_index.json\",\n",
    "            \"mc20_13TeV_MC_Sh_2211_WlvWqq_file_index.json\"\n",
    "        ],\n",
    "        \"file\": \"ATLAS_boson.json\"\n",
    "    },\n",
    "}\n",
    "\n",
    "period_runs = {\n",
    "    \"B\": [\"300908\",\"300863\",\"300800\",\"300784\",\"300687\",\"300655\",\"300600\",\"300571\",\"300540\",\"300487\",\"300418\",\"300415\",\"300345\"],\n",
    "    \"C\": [\"302393\",\"302391\",\"302380\",\"302347\",\"302300\",\"302269\",\"302265\",\"302137\",\"302053\",\"301973\",\"301932\",\"301918\",\"301915\",\"301912\"],\n",
    "    \"D\": [\"303560\",\"303499\",\"303421\",\"303338\",\"303304\",\"303291\",\"303266\",\"303264\",\"303208\",\"303201\",\"303079\",\"303059\",\"303007\",\"302956\",\"302925\",\"302919\",\"302872\",\"302831\",\"302829\",\"302737\"],\n",
    "    \"E\": [\"303892\",\"303846\",\"303832\",\"303819\",\"303817\",\"303811\",\"303726\",\"303638\"],\n",
    "    \"F\": [\"304494\",\"304431\",\"304409\",\"304337\",\"304308\",\"304243\",\"304211\",\"304198\",\"304178\",\"304128\",\"304008\",\"304006\",\"303943\"],\n",
    "    \"G\": [\"306451\",\"306448\",\"306442\",\"306419\",\"306384\",\"306310\",\"306278\",\"306269\",\"305920\",\"305811\",\"305777\",\"305735\",\"305727\",\"305723\",\"305674\",\"305671\",\"305618\",\"305571\",\"305543\",\"305380\",\"305293\"],\n",
    "    \"I\": [\"308084\",\"308047\",\"307935\",\"307861\",\"307732\",\"307716\",\"307710\",\"307656\",\"307619\",\"307601\",\"307569\",\"307539\",\"307514\",\"307454\",\"307394\",\"307358\",\"307354\",\"307306\",\"307259\",\"307195\",\"307126\",\"307124\"],\n",
    "    \"K\": [\"309759\",\"309674\",\"309640\",\"309516\",\"309440\",\"309390\",\"309375\"],\n",
    "    \"A\": [\"297730\",\"298595\",\"298609\",\"298633\",\"298687\",\"298690\",\"298771\",\"298773\",\"298862\",\"298967\",\"299055\",\"299144\",\"299147\",\"299184\",\"299241\",\"299243\",\"299288\",\"299315\",\"299340\",\"299343\",\"299390\",\"299584\",\"300279\",\"300287\"],\n",
    "    \"L\": [\"310210\",\"310247\",\"310249\",\"310341\",\"310370\",\"310405\",\"310468\",\"310473\",\"310574\",\"310634\",\"310691\",\"310738\",\"310781\",\"310809\",\"310863\",\"310872\",\"310969\",\"311071\",\"311170\",\"311244\",\"311287\",\"311321\",\"311365\",\"311402\",\"311473\",\"311481\"]\n",
    "}"
   ]
  },
  {
   "cell_type": "code",
   "execution_count": 9,
   "id": "a6265cd1",
   "metadata": {},
   "outputs": [],
   "source": [
    "def list_directory(path):\n",
    "    \"\"\"Return a set of filenames in directory (without subdirs).\"\"\"\n",
    "    if not os.path.exists(path):\n",
    "        return set()\n",
    "    return set(os.listdir(path))\n",
    "\n",
    "def check_mc_progress():\n",
    "    print(\"\\n=== MC Progress ===\")\n",
    "    for process, info in atlas_info.items():\n",
    "        # print(process)\n",
    "        process_path = os.path.join(mc_finished_path, process)\n",
    "        finished = set(os.listdir(process_path)) if os.path.exists(process_path) else set()\n",
    "        # print(finished)\n",
    "\n",
    "        # Map json names -> expected folder names (\"processXXXX\")\n",
    "        expected = [j.replace(\"_file_index.json\", \"\") for j in info[\"jsons\"]]\n",
    "        # print(expected)\n",
    "        total = len(expected)\n",
    "        done = sum(1 for e in expected if any(e in f for f in finished))\n",
    "        missing = [e for e in expected if not any(e in f for f in finished)]\n",
    "\n",
    "        print(f\"{process:12} {done}/{total} done\")\n",
    "        # if missing:\n",
    "        #     print(\"   Missing:\", \", \".join(missing))\n",
    "\n",
    "def check_data_progress():\n",
    "    print(\"\\n=== Data Progress ===\")\n",
    "    for period, runs in period_runs.items():\n",
    "        period_path = os.path.join(data_finished_path, period)\n",
    "        finished = set(os.listdir(period_path)) if os.path.exists(period_path) else set()\n",
    "\n",
    "        expected = [f\"run{r}\" for r in runs]\n",
    "\n",
    "        total = len(expected)\n",
    "        done = sum(1 for e in expected if e in finished)\n",
    "        missing = [e for e in expected if e not in finished]\n",
    "\n",
    "        print(f\"Period {period:2} {done}/{total} done\")\n",
    "        # if missing:\n",
    "        #     print(\"   Missing:\", \", \".join(missing))"
   ]
  },
  {
   "cell_type": "code",
   "execution_count": 10,
   "id": "516b01bb",
   "metadata": {},
   "outputs": [
    {
     "name": "stdout",
     "output_type": "stream",
     "text": [
      "\n",
      "=== MC Progress ===\n",
      "Wjets        2/12 done\n",
      "Zjets        5/9 done\n",
      "ttbar        2/2 done\n",
      "Single_top   4/4 done\n",
      "Multijet     13/13 done\n",
      "Diboson      4/4 done\n"
     ]
    }
   ],
   "source": [
    "check_mc_progress()"
   ]
  },
  {
   "cell_type": "code",
   "execution_count": 11,
   "id": "086d9f85",
   "metadata": {},
   "outputs": [
    {
     "name": "stdout",
     "output_type": "stream",
     "text": [
      "\n",
      "=== Data Progress ===\n",
      "Period B  13/13 done\n",
      "Period C  14/14 done\n",
      "Period D  17/20 done\n",
      "Period E  8/8 done\n",
      "Period F  13/13 done\n",
      "Period G  21/21 done\n",
      "Period I  22/22 done\n",
      "Period K  7/7 done\n",
      "Period A  24/24 done\n",
      "Period L  18/26 done\n"
     ]
    }
   ],
   "source": [
    "check_data_progress()"
   ]
  }
 ],
 "metadata": {
  "kernelspec": {
   "display_name": "Python 3",
   "language": "python",
   "name": "python3"
  },
  "language_info": {
   "codemirror_mode": {
    "name": "ipython",
    "version": 3
   },
   "file_extension": ".py",
   "mimetype": "text/x-python",
   "name": "python",
   "nbconvert_exporter": "python",
   "pygments_lexer": "ipython3",
   "version": "3.10.12"
  }
 },
 "nbformat": 4,
 "nbformat_minor": 5
}
